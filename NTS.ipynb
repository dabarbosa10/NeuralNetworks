{
  "nbformat": 4,
  "nbformat_minor": 0,
  "metadata": {
    "colab": {
      "name": "NTS.ipynb",
      "provenance": [],
      "collapsed_sections": []
    },
    "kernelspec": {
      "name": "python3",
      "display_name": "Python 3"
    },
    "accelerator": "GPU"
  },
  "cells": [
    {
      "cell_type": "code",
      "metadata": {
        "id": "PVLaE0mT_M5O",
        "colab_type": "code",
        "colab": {
          "base_uri": "https://localhost:8080/",
          "height": 34
        },
        "outputId": "484d1b81-bd27-4ced-dd00-394536c5edf6"
      },
      "source": [
        "from google.colab import drive\n",
        "drive.mount('/content/gdrive')"
      ],
      "execution_count": 1,
      "outputs": [
        {
          "output_type": "stream",
          "text": [
            "Drive already mounted at /content/gdrive; to attempt to forcibly remount, call drive.mount(\"/content/gdrive\", force_remount=True).\n"
          ],
          "name": "stdout"
        }
      ]
    },
    {
      "cell_type": "code",
      "metadata": {
        "id": "PtP7C87M_kS6",
        "colab_type": "code",
        "colab": {}
      },
      "source": [
        "import sys\n",
        "sys.path.insert(0, '/content/gdrive/My Drive/Colab Notebooks')"
      ],
      "execution_count": 0,
      "outputs": []
    },
    {
      "cell_type": "code",
      "metadata": {
        "id": "1jgRPfDW_soo",
        "colab_type": "code",
        "colab": {
          "base_uri": "https://localhost:8080/",
          "height": 63
        },
        "outputId": "f1ebf7a3-e0eb-4ef1-a53b-0d107b4a7b33"
      },
      "source": [
        "import os\n",
        "import sys\n",
        "import scipy.io\n",
        "import scipy.misc\n",
        "import matplotlib.pyplot as plt\n",
        "from matplotlib.pyplot import imshow\n",
        "from PIL import Image\n",
        "from nst_utils import *\n",
        "import numpy as np\n",
        "import tensorflow as tf\n",
        "import pprint\n",
        "import imageio\n",
        "%matplotlib inline"
      ],
      "execution_count": 3,
      "outputs": [
        {
          "output_type": "display_data",
          "data": {
            "text/html": [
              "<p style=\"color: red;\">\n",
              "The default version of TensorFlow in Colab will soon switch to TensorFlow 2.x.<br>\n",
              "We recommend you <a href=\"https://www.tensorflow.org/guide/migrate\" target=\"_blank\">upgrade</a> now \n",
              "or ensure your notebook will continue to use TensorFlow 1.x via the <code>%tensorflow_version 1.x</code> magic:\n",
              "<a href=\"https://colab.research.google.com/notebooks/tensorflow_version.ipynb\" target=\"_blank\">more info</a>.</p>\n"
            ],
            "text/plain": [
              "<IPython.core.display.HTML object>"
            ]
          },
          "metadata": {
            "tags": []
          }
        }
      ]
    },
    {
      "cell_type": "code",
      "metadata": {
        "id": "aZeVnbTV_ucz",
        "colab_type": "code",
        "colab": {
          "base_uri": "https://localhost:8080/",
          "height": 425
        },
        "outputId": "7ef25bcc-5366-4e24-c29b-a0ecef4c9a2c"
      },
      "source": [
        "pp = pprint.PrettyPrinter(indent=4)\n",
        "model = load_vgg_model(\"/content/gdrive/My Drive/Colab Notebooks/imagenet-vgg-verydeep-19.mat\")\n",
        "pp.pprint(model)"
      ],
      "execution_count": 4,
      "outputs": [
        {
          "output_type": "stream",
          "text": [
            "WARNING:tensorflow:From /content/gdrive/My Drive/Colab Notebooks/nst_utils.py:124: The name tf.nn.avg_pool is deprecated. Please use tf.nn.avg_pool2d instead.\n",
            "\n",
            "{   'avgpool1': <tf.Tensor 'AvgPool:0' shape=(1, 150, 200, 64) dtype=float32>,\n",
            "    'avgpool2': <tf.Tensor 'AvgPool_1:0' shape=(1, 75, 100, 128) dtype=float32>,\n",
            "    'avgpool3': <tf.Tensor 'AvgPool_2:0' shape=(1, 38, 50, 256) dtype=float32>,\n",
            "    'avgpool4': <tf.Tensor 'AvgPool_3:0' shape=(1, 19, 25, 512) dtype=float32>,\n",
            "    'avgpool5': <tf.Tensor 'AvgPool_4:0' shape=(1, 10, 13, 512) dtype=float32>,\n",
            "    'conv1_1': <tf.Tensor 'Relu:0' shape=(1, 300, 400, 64) dtype=float32>,\n",
            "    'conv1_2': <tf.Tensor 'Relu_1:0' shape=(1, 300, 400, 64) dtype=float32>,\n",
            "    'conv2_1': <tf.Tensor 'Relu_2:0' shape=(1, 150, 200, 128) dtype=float32>,\n",
            "    'conv2_2': <tf.Tensor 'Relu_3:0' shape=(1, 150, 200, 128) dtype=float32>,\n",
            "    'conv3_1': <tf.Tensor 'Relu_4:0' shape=(1, 75, 100, 256) dtype=float32>,\n",
            "    'conv3_2': <tf.Tensor 'Relu_5:0' shape=(1, 75, 100, 256) dtype=float32>,\n",
            "    'conv3_3': <tf.Tensor 'Relu_6:0' shape=(1, 75, 100, 256) dtype=float32>,\n",
            "    'conv3_4': <tf.Tensor 'Relu_7:0' shape=(1, 75, 100, 256) dtype=float32>,\n",
            "    'conv4_1': <tf.Tensor 'Relu_8:0' shape=(1, 38, 50, 512) dtype=float32>,\n",
            "    'conv4_2': <tf.Tensor 'Relu_9:0' shape=(1, 38, 50, 512) dtype=float32>,\n",
            "    'conv4_3': <tf.Tensor 'Relu_10:0' shape=(1, 38, 50, 512) dtype=float32>,\n",
            "    'conv4_4': <tf.Tensor 'Relu_11:0' shape=(1, 38, 50, 512) dtype=float32>,\n",
            "    'conv5_1': <tf.Tensor 'Relu_12:0' shape=(1, 19, 25, 512) dtype=float32>,\n",
            "    'conv5_2': <tf.Tensor 'Relu_13:0' shape=(1, 19, 25, 512) dtype=float32>,\n",
            "    'conv5_3': <tf.Tensor 'Relu_14:0' shape=(1, 19, 25, 512) dtype=float32>,\n",
            "    'conv5_4': <tf.Tensor 'Relu_15:0' shape=(1, 19, 25, 512) dtype=float32>,\n",
            "    'input': <tf.Variable 'Variable:0' shape=(1, 300, 400, 3) dtype=float32_ref>}\n"
          ],
          "name": "stdout"
        }
      ]
    },
    {
      "cell_type": "code",
      "metadata": {
        "id": "kPSR3Fv4_17n",
        "colab_type": "code",
        "colab": {}
      },
      "source": [
        "#content_image = imageio.imread(\"/content/gdrive/My Drive/Colab Notebooks/my_content1.jpg\")\n",
        "#imshow(content_image);"
      ],
      "execution_count": 0,
      "outputs": []
    },
    {
      "cell_type": "code",
      "metadata": {
        "id": "txk8Z9XsAm1c",
        "colab_type": "code",
        "colab": {}
      },
      "source": [
        "def compute_content_cost(a_C, a_G):\n",
        "\n",
        "    m, n_H, n_W, n_C = a_G.get_shape().as_list()\n",
        "    a_C_unrolled = tf.reshape(a_C,shape=[m,n_H*n_W,n_C])\n",
        "    a_G_unrolled = tf.reshape(a_G,shape=[m,n_H*n_W,n_C])\n",
        "    J_content = (1/(4*n_H*n_W*n_C))*(tf.reduce_sum(tf.square(tf.subtract(a_C_unrolled,a_G_unrolled))))\n",
        "    return J_content"
      ],
      "execution_count": 0,
      "outputs": []
    },
    {
      "cell_type": "code",
      "metadata": {
        "id": "14jgDPhRBIsF",
        "colab_type": "code",
        "colab": {
          "base_uri": "https://localhost:8080/",
          "height": 34
        },
        "outputId": "4c132a36-0f8d-4d43-f20d-5a410211dcca"
      },
      "source": [
        "tf.reset_default_graph()\n",
        "\n",
        "with tf.Session() as test:\n",
        "    tf.set_random_seed(1)\n",
        "    a_C = tf.random_normal([1, 4, 4, 3], mean=1, stddev=4)\n",
        "    a_G = tf.random_normal([1, 4, 4, 3], mean=1, stddev=4)\n",
        "    J_content = compute_content_cost(a_C, a_G)\n",
        "    print(\"J_content = \" + str(J_content.eval()))"
      ],
      "execution_count": 7,
      "outputs": [
        {
          "output_type": "stream",
          "text": [
            "J_content = 6.7655935\n"
          ],
          "name": "stdout"
        }
      ]
    },
    {
      "cell_type": "code",
      "metadata": {
        "id": "lCHiNmwtBKZ_",
        "colab_type": "code",
        "colab": {}
      },
      "source": [
        "def gram_matrix(A):\n",
        "\n",
        "    GA = tf.matmul(A,tf.transpose(A))\n",
        "\n",
        "    \n",
        "    return GA"
      ],
      "execution_count": 0,
      "outputs": []
    },
    {
      "cell_type": "code",
      "metadata": {
        "id": "vvdNcLYhBZR5",
        "colab_type": "code",
        "colab": {
          "base_uri": "https://localhost:8080/",
          "height": 85
        },
        "outputId": "532ceee0-9358-4c5c-e203-09cf5978593b"
      },
      "source": [
        "tf.reset_default_graph()\n",
        "\n",
        "with tf.Session() as test:\n",
        "    tf.set_random_seed(1)\n",
        "    A = tf.random_normal([3, 2*1], mean=1, stddev=4)\n",
        "    GA = gram_matrix(A)\n",
        "    \n",
        "    print(\"GA = \\n\" + str(GA.eval()))"
      ],
      "execution_count": 9,
      "outputs": [
        {
          "output_type": "stream",
          "text": [
            "GA = \n",
            "[[ 6.422305 -4.429122 -2.096682]\n",
            " [-4.429122 19.465837 19.563871]\n",
            " [-2.096682 19.563871 20.686462]]\n"
          ],
          "name": "stdout"
        }
      ]
    },
    {
      "cell_type": "code",
      "metadata": {
        "id": "u1J86ycRBa0T",
        "colab_type": "code",
        "colab": {}
      },
      "source": [
        "def compute_layer_style_cost(a_S, a_G):\n",
        "\n",
        "    m, n_H, n_W, n_C = a_G.get_shape().as_list()\n",
        "    \n",
        "    a_S = tf.reshape(tf.transpose(a_S,perm=[0,3,1,2]),shape=[n_C,n_H*n_W])\n",
        "    a_G = tf.reshape(tf.transpose(a_G,perm=[0,3,1,2]),shape=[n_C,n_H*n_W])\n",
        "\n",
        "    GS = tf.matmul(a_S,tf.transpose(a_S))\n",
        "    GG = tf.matmul(a_G,tf.transpose(a_G))\n",
        "    J_style_layer = (1/(4*(n_C**2)*(n_H*n_W)**2))*tf.reduce_sum(tf.square(tf.subtract(GS,GG)))\n",
        "    \n",
        "    \n",
        "    return J_style_layer"
      ],
      "execution_count": 0,
      "outputs": []
    },
    {
      "cell_type": "code",
      "metadata": {
        "id": "OCQJD-tXBjIa",
        "colab_type": "code",
        "colab": {
          "base_uri": "https://localhost:8080/",
          "height": 34
        },
        "outputId": "ad4ffdd8-5df4-402b-8cf0-d6691365e2fa"
      },
      "source": [
        "tf.reset_default_graph()\n",
        "\n",
        "with tf.Session() as test:\n",
        "    tf.set_random_seed(1)\n",
        "    a_S = tf.random_normal([1, 4, 4, 3], mean=1, stddev=4)\n",
        "    a_G = tf.random_normal([1, 4, 4, 3], mean=1, stddev=4)\n",
        "    J_style_layer = compute_layer_style_cost(a_S, a_G)\n",
        "    \n",
        "    print(\"J_style_layer = \" + str(J_style_layer.eval()))"
      ],
      "execution_count": 11,
      "outputs": [
        {
          "output_type": "stream",
          "text": [
            "J_style_layer = 9.190277\n"
          ],
          "name": "stdout"
        }
      ]
    },
    {
      "cell_type": "code",
      "metadata": {
        "id": "ih7eQ9bWBlW1",
        "colab_type": "code",
        "colab": {}
      },
      "source": [
        "STYLE_LAYERS = [\n",
        "    ('conv1_1', 0.2),\n",
        "    ('conv2_1', 0.2),\n",
        "    ('conv3_1', 0.2),\n",
        "    ('conv4_1', 0.2),\n",
        "    ('conv5_1', 0.2)]"
      ],
      "execution_count": 0,
      "outputs": []
    },
    {
      "cell_type": "code",
      "metadata": {
        "id": "bgP0Iyq_BnZQ",
        "colab_type": "code",
        "colab": {}
      },
      "source": [
        "def compute_style_cost(model, STYLE_LAYERS):\n",
        "\n",
        "    J_style = 0\n",
        "\n",
        "    for layer_name, coeff in STYLE_LAYERS:\n",
        "\n",
        "\n",
        "        out = model[layer_name]\n",
        "\n",
        "        a_S = sess.run(out)\n",
        "\n",
        "        a_G = out\n",
        "  \n",
        "        J_style_layer = compute_layer_style_cost(a_S, a_G)\n",
        "\n",
        "        J_style += coeff * J_style_layer\n",
        "\n",
        "    return J_style"
      ],
      "execution_count": 0,
      "outputs": []
    },
    {
      "cell_type": "code",
      "metadata": {
        "id": "aHvndkdZBvuy",
        "colab_type": "code",
        "colab": {}
      },
      "source": [
        "def total_cost(J_content, J_style, alpha = 10, beta = 40):\n",
        "\n",
        "    J = alpha*J_content + beta*J_style\n",
        "    \n",
        "    return J"
      ],
      "execution_count": 0,
      "outputs": []
    },
    {
      "cell_type": "code",
      "metadata": {
        "id": "ZfjYUdZ7B0ee",
        "colab_type": "code",
        "colab": {
          "base_uri": "https://localhost:8080/",
          "height": 34
        },
        "outputId": "cf74a624-8086-438c-81e1-ab69932b959e"
      },
      "source": [
        "tf.reset_default_graph()\n",
        "\n",
        "with tf.Session() as test:\n",
        "    np.random.seed(3)\n",
        "    J_content = np.random.randn()    \n",
        "    J_style = np.random.randn()\n",
        "    J = total_cost(J_content, J_style)\n",
        "    print(\"J = \" + str(J))"
      ],
      "execution_count": 15,
      "outputs": [
        {
          "output_type": "stream",
          "text": [
            "J = 35.34667875478276\n"
          ],
          "name": "stdout"
        }
      ]
    },
    {
      "cell_type": "code",
      "metadata": {
        "id": "rHRaqoKBB2Io",
        "colab_type": "code",
        "colab": {}
      },
      "source": [
        "\n",
        "tf.reset_default_graph()\n",
        "\n",
        "sess = tf.InteractiveSession()"
      ],
      "execution_count": 0,
      "outputs": []
    },
    {
      "cell_type": "code",
      "metadata": {
        "id": "yAeV1R9ZB7AI",
        "colab_type": "code",
        "colab": {}
      },
      "source": [
        "content_image = imageio.imread(\"/content/gdrive/My Drive/Colab Notebooks/mycont.jpg\")\n",
        "content_image = reshape_and_normalize_image(content_image)"
      ],
      "execution_count": 0,
      "outputs": []
    },
    {
      "cell_type": "code",
      "metadata": {
        "id": "qijm8LjvB88L",
        "colab_type": "code",
        "colab": {}
      },
      "source": [
        "style_image = imageio.imread(\"/content/gdrive/My Drive/Colab Notebooks/cubist.jpg\")\n",
        "style_image = reshape_and_normalize_image(style_image)"
      ],
      "execution_count": 0,
      "outputs": []
    },
    {
      "cell_type": "code",
      "metadata": {
        "id": "rC7QYsc5CfXi",
        "colab_type": "code",
        "colab": {}
      },
      "source": [
        "model = load_vgg_model(\"/content/gdrive/My Drive/Colab Notebooks/imagenet-vgg-verydeep-19.mat\")"
      ],
      "execution_count": 0,
      "outputs": []
    },
    {
      "cell_type": "code",
      "metadata": {
        "id": "O7pB_nnaC6Wz",
        "colab_type": "code",
        "colab": {}
      },
      "source": [
        "\n",
        "sess.run(model['input'].assign(content_image))\n",
        "\n",
        "out = model['conv4_2']\n",
        "\n",
        "a_C = sess.run(out)\n",
        "\n",
        "a_G = out\n",
        "\n",
        "J_content = compute_content_cost(a_C, a_G)"
      ],
      "execution_count": 0,
      "outputs": []
    },
    {
      "cell_type": "code",
      "metadata": {
        "id": "a4Srn2KMDGUw",
        "colab_type": "code",
        "colab": {}
      },
      "source": [
        "\n",
        "sess.run(model['input'].assign(style_image))\n",
        "\n",
        "J_style = compute_style_cost(model, STYLE_LAYERS)"
      ],
      "execution_count": 0,
      "outputs": []
    },
    {
      "cell_type": "code",
      "metadata": {
        "id": "Z05JWCfFDKcE",
        "colab_type": "code",
        "colab": {}
      },
      "source": [
        "J = total_cost(J_content, J_style, alpha = 10, beta = 40)"
      ],
      "execution_count": 0,
      "outputs": []
    },
    {
      "cell_type": "code",
      "metadata": {
        "id": "gMYBWnasDMm9",
        "colab_type": "code",
        "colab": {}
      },
      "source": [
        "\n",
        "optimizer = tf.train.AdamOptimizer(2.0)\n",
        "\n",
        "train_step = optimizer.minimize(J)"
      ],
      "execution_count": 0,
      "outputs": []
    },
    {
      "cell_type": "code",
      "metadata": {
        "id": "k0zAnV_YD4xK",
        "colab_type": "code",
        "colab": {}
      },
      "source": [
        "def save_image1(path, image):\n",
        "  \n",
        "    image = image + CONFIG.MEANS\n",
        "    image = np.clip(image[0], 0, 255).astype('uint8')\n",
        "    imageio.imwrite(path, image)"
      ],
      "execution_count": 0,
      "outputs": []
    },
    {
      "cell_type": "code",
      "metadata": {
        "id": "EfNx097PDP0Z",
        "colab_type": "code",
        "colab": {}
      },
      "source": [
        "def model_nn(sess, input_image, num_iterations = 1000):\n",
        "\n",
        "    sess.run(tf.global_variables_initializer())\n",
        "\n",
        "\n",
        "    sess.run(model[\"input\"].assign(input_image))\n",
        " \n",
        "    for i in range(num_iterations):\n",
        "    \n",
        "  \n",
        "        sess.run(train_step)\n",
        "  \n",
        "        generated_image = sess.run(model['input'])\n",
        "\n",
        "        if i%20 == 0:\n",
        "            Jt, Jc, Js = sess.run([J, J_content, J_style])\n",
        "            print(\"Iteration \" + str(i) + \" :\")\n",
        "            print(\"total cost = \" + str(Jt))\n",
        "            print(\"content cost = \" + str(Jc))\n",
        "            print(\"style cost = \" + str(Js))\n",
        "            \n",
        " \n",
        "            save_image1(\"/content/gdrive/My Drive/Colab Notebooks/\" + str(i) + \".png\", generated_image)\n",
        "    save_image1('/content/gdrive/My Drive/Colab Notebooks/generated_image.jpg', generated_image)\n",
        "    \n",
        "    return generated_image"
      ],
      "execution_count": 0,
      "outputs": []
    },
    {
      "cell_type": "code",
      "metadata": {
        "id": "iljAixeCDjAg",
        "colab_type": "code",
        "colab": {
          "base_uri": "https://localhost:8080/",
          "height": 1000
        },
        "outputId": "c99520ab-ad6b-4082-d284-a4f775f0e8b6"
      },
      "source": [
        "model_nn(sess, generated_image)"
      ],
      "execution_count": 27,
      "outputs": [
        {
          "output_type": "stream",
          "text": [
            "Iteration 0 :\n",
            "total cost = 13469407000.0\n",
            "content cost = 10619.487\n",
            "style cost = 336732500.0\n",
            "Iteration 20 :\n",
            "total cost = 2623837400.0\n",
            "content cost = 18456.812\n",
            "style cost = 65591324.0\n",
            "Iteration 40 :\n",
            "total cost = 1430319700.0\n",
            "content cost = 19702.021\n",
            "style cost = 35753068.0\n",
            "Iteration 60 :\n",
            "total cost = 1030769100.0\n",
            "content cost = 20597.334\n",
            "style cost = 25764078.0\n",
            "Iteration 80 :\n",
            "total cost = 826224100.0\n",
            "content cost = 21392.14\n",
            "style cost = 20650254.0\n",
            "Iteration 100 :\n",
            "total cost = 693961300.0\n",
            "content cost = 22142.357\n",
            "style cost = 17343496.0\n",
            "Iteration 120 :\n",
            "total cost = 597884740.0\n",
            "content cost = 22830.395\n",
            "style cost = 14941411.0\n",
            "Iteration 140 :\n",
            "total cost = 524873920.0\n",
            "content cost = 23474.182\n",
            "style cost = 13115979.0\n",
            "Iteration 160 :\n",
            "total cost = 467645900.0\n",
            "content cost = 24060.734\n",
            "style cost = 11685132.0\n",
            "Iteration 180 :\n",
            "total cost = 421609380.0\n",
            "content cost = 24539.455\n",
            "style cost = 10534099.0\n",
            "Iteration 200 :\n",
            "total cost = 384211420.0\n",
            "content cost = 24947.404\n",
            "style cost = 9599049.0\n",
            "Iteration 220 :\n",
            "total cost = 352777950.0\n",
            "content cost = 25309.58\n",
            "style cost = 8813122.0\n",
            "Iteration 240 :\n",
            "total cost = 325891230.0\n",
            "content cost = 25628.09\n",
            "style cost = 8140873.5\n",
            "Iteration 260 :\n",
            "total cost = 302720220.0\n",
            "content cost = 25908.648\n",
            "style cost = 7561528.5\n",
            "Iteration 280 :\n",
            "total cost = 281987870.0\n",
            "content cost = 26171.205\n",
            "style cost = 7043154.0\n",
            "Iteration 300 :\n",
            "total cost = 263904030.0\n",
            "content cost = 26412.469\n",
            "style cost = 6590997.5\n",
            "Iteration 320 :\n",
            "total cost = 247579440.0\n",
            "content cost = 26648.771\n",
            "style cost = 6182824.0\n",
            "Iteration 340 :\n",
            "total cost = 232668670.0\n",
            "content cost = 26892.26\n",
            "style cost = 5809993.5\n",
            "Iteration 360 :\n",
            "total cost = 219319820.0\n",
            "content cost = 27118.486\n",
            "style cost = 5476216.0\n",
            "Iteration 380 :\n",
            "total cost = 207226340.0\n",
            "content cost = 27322.53\n",
            "style cost = 5173827.5\n",
            "Iteration 400 :\n",
            "total cost = 195959840.0\n",
            "content cost = 27532.504\n",
            "style cost = 4892113.0\n",
            "Iteration 420 :\n",
            "total cost = 185638030.0\n",
            "content cost = 27731.9\n",
            "style cost = 4634018.0\n",
            "Iteration 440 :\n",
            "total cost = 176267680.0\n",
            "content cost = 27937.389\n",
            "style cost = 4399707.5\n",
            "Iteration 460 :\n",
            "total cost = 167683400.0\n",
            "content cost = 28112.377\n",
            "style cost = 4185057.0\n",
            "Iteration 480 :\n",
            "total cost = 159769820.0\n",
            "content cost = 28267.645\n",
            "style cost = 3987178.8\n",
            "Iteration 500 :\n",
            "total cost = 152379260.0\n",
            "content cost = 28418.2\n",
            "style cost = 3802377.2\n",
            "Iteration 520 :\n",
            "total cost = 145389600.0\n",
            "content cost = 28560.63\n",
            "style cost = 3627600.0\n",
            "Iteration 540 :\n",
            "total cost = 138777660.0\n",
            "content cost = 28708.63\n",
            "style cost = 3462264.2\n",
            "Iteration 560 :\n",
            "total cost = 132407176.0\n",
            "content cost = 28853.527\n",
            "style cost = 3302966.0\n",
            "Iteration 580 :\n",
            "total cost = 126193340.0\n",
            "content cost = 28994.299\n",
            "style cost = 3147585.0\n",
            "Iteration 600 :\n",
            "total cost = 120448130.0\n",
            "content cost = 29128.71\n",
            "style cost = 3003921.0\n",
            "Iteration 620 :\n",
            "total cost = 115077060.0\n",
            "content cost = 29263.799\n",
            "style cost = 2869610.5\n",
            "Iteration 640 :\n",
            "total cost = 109938110.0\n",
            "content cost = 29394.387\n",
            "style cost = 2741104.2\n",
            "Iteration 660 :\n",
            "total cost = 105135190.0\n",
            "content cost = 29523.002\n",
            "style cost = 2620999.0\n",
            "Iteration 680 :\n",
            "total cost = 100625190.0\n",
            "content cost = 29651.84\n",
            "style cost = 2508216.8\n",
            "Iteration 700 :\n",
            "total cost = 96379490.0\n",
            "content cost = 29784.828\n",
            "style cost = 2402041.0\n",
            "Iteration 720 :\n",
            "total cost = 92426830.0\n",
            "content cost = 29912.37\n",
            "style cost = 2303192.8\n",
            "Iteration 740 :\n",
            "total cost = 88690840.0\n",
            "content cost = 30044.803\n",
            "style cost = 2209759.8\n",
            "Iteration 760 :\n",
            "total cost = 85247340.0\n",
            "content cost = 30171.285\n",
            "style cost = 2123640.8\n",
            "Iteration 780 :\n",
            "total cost = 81930690.0\n",
            "content cost = 30299.432\n",
            "style cost = 2040692.5\n",
            "Iteration 800 :\n",
            "total cost = 78695030.0\n",
            "content cost = 30429.04\n",
            "style cost = 1959768.6\n",
            "Iteration 820 :\n",
            "total cost = 75567550.0\n",
            "content cost = 30556.146\n",
            "style cost = 1881549.8\n",
            "Iteration 840 :\n",
            "total cost = 72610040.0\n",
            "content cost = 30670.834\n",
            "style cost = 1807583.1\n",
            "Iteration 860 :\n",
            "total cost = 69817920.0\n",
            "content cost = 30782.85\n",
            "style cost = 1737752.1\n",
            "Iteration 880 :\n",
            "total cost = 67155990.0\n",
            "content cost = 30887.916\n",
            "style cost = 1671177.9\n",
            "Iteration 900 :\n",
            "total cost = 64612092.0\n",
            "content cost = 30981.908\n",
            "style cost = 1607556.8\n",
            "Iteration 920 :\n",
            "total cost = 62271270.0\n",
            "content cost = 31080.182\n",
            "style cost = 1549011.8\n",
            "Iteration 940 :\n",
            "total cost = 60117516.0\n",
            "content cost = 31180.432\n",
            "style cost = 1495142.8\n",
            "Iteration 960 :\n",
            "total cost = 58145544.0\n",
            "content cost = 31276.56\n",
            "style cost = 1445819.5\n",
            "Iteration 980 :\n",
            "total cost = 56279536.0\n",
            "content cost = 31362.377\n",
            "style cost = 1399147.8\n"
          ],
          "name": "stdout"
        },
        {
          "output_type": "execute_result",
          "data": {
            "text/plain": [
              "array([[[[-5.1893330e+01,  9.2689600e+00,  9.3691193e+01],\n",
              "         [-8.1951973e+01,  1.8004616e+01,  1.3064223e+02],\n",
              "         [-6.8607552e+01,  1.6376127e+01,  1.0136405e+02],\n",
              "         ...,\n",
              "         [-2.8088264e+01,  2.4462511e+01,  3.5293190e+01],\n",
              "         [-3.9430000e+01,  9.6914310e+00,  2.9162169e+01],\n",
              "         [-4.3803978e+01,  1.1908092e+01,  9.8670158e+01]],\n",
              "\n",
              "        [[-8.8396309e+01,  1.5476979e+01,  9.8429802e+01],\n",
              "         [-3.7310024e+01,  1.2536489e+00,  6.1829647e+01],\n",
              "         [-2.3048309e+01,  8.0092239e-01,  5.9574757e+01],\n",
              "         ...,\n",
              "         [-2.6018194e+01,  1.8225695e+01,  3.0345774e+01],\n",
              "         [-2.9923531e+01,  5.7628887e+01,  5.8434391e+00],\n",
              "         [-4.3567558e+01,  1.1690986e+01,  3.7657692e+01]],\n",
              "\n",
              "        [[-7.7701492e+01,  1.7098490e+00,  8.1827522e+01],\n",
              "         [-2.8366880e+01, -6.5800867e+00,  5.4357201e+01],\n",
              "         [-2.5083218e+01,  9.9007406e+00,  4.3130692e+01],\n",
              "         ...,\n",
              "         [-9.0717506e+00, -1.2715713e+01,  7.9374771e+00],\n",
              "         [-2.2128885e+01,  2.6850054e+01, -1.4718243e+00],\n",
              "         [-3.3792591e+01, -2.2367384e+01,  1.0331640e+01]],\n",
              "\n",
              "        ...,\n",
              "\n",
              "        [[-2.0769886e+01, -2.3812670e+01,  1.5052953e+00],\n",
              "         [-1.5803121e+01,  3.9582124e+00, -4.6334431e+01],\n",
              "         [-7.2034950e+00, -9.9864035e+00, -2.1906065e+01],\n",
              "         ...,\n",
              "         [ 1.2689315e+01,  2.3444221e+01,  1.5769748e+01],\n",
              "         [ 2.0882778e+01,  2.3449783e+00,  1.8823069e+01],\n",
              "         [ 4.0025625e+00,  1.3559143e+01,  1.0757196e+01]],\n",
              "\n",
              "        [[-3.6952919e+01, -7.4447513e+00,  1.3851749e+01],\n",
              "         [-4.5931438e-01, -7.5364990e+00,  7.2519717e+00],\n",
              "         [-3.4845698e+00, -9.8394556e+00, -7.7047744e+00],\n",
              "         ...,\n",
              "         [ 1.5119901e+00,  1.7603821e+01,  6.8091927e+00],\n",
              "         [ 4.3834558e+00,  3.8211374e+00,  7.8629370e+00],\n",
              "         [-1.2966639e+01,  8.5079470e+00,  6.5269783e+01]],\n",
              "\n",
              "        [[-3.7336617e+01, -1.8854010e+01,  4.9632289e-02],\n",
              "         [-3.3405365e+01, -9.9393377e+00,  1.8400871e+01],\n",
              "         [-5.8792033e+00, -2.0388008e+01, -3.0878389e+00],\n",
              "         ...,\n",
              "         [ 4.0548878e+01,  4.2790543e+01,  4.2921604e+01],\n",
              "         [ 1.7339510e+01,  1.4004432e+01,  4.4249592e+01],\n",
              "         [-3.2318947e+00,  2.9976304e+00,  5.7376686e+01]]]],\n",
              "      dtype=float32)"
            ]
          },
          "metadata": {
            "tags": []
          },
          "execution_count": 27
        }
      ]
    },
    {
      "cell_type": "code",
      "metadata": {
        "id": "R9XqrhHODljl",
        "colab_type": "code",
        "colab": {}
      },
      "source": [
        ""
      ],
      "execution_count": 0,
      "outputs": []
    }
  ]
}